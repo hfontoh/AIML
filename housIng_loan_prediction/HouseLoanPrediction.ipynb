{
  "nbformat": 4,
  "nbformat_minor": 0,
  "metadata": {
    "colab": {
      "name": "Untitled10.ipynb",
      "provenance": [],
      "authorship_tag": "ABX9TyN8I9e2b2YY9NWjw0oDewf6",
      "include_colab_link": true
    },
    "kernelspec": {
      "name": "python3",
      "display_name": "Python 3"
    },
    "language_info": {
      "name": "python"
    }
  },
  "cells": [
    {
      "cell_type": "markdown",
      "metadata": {
        "id": "view-in-github",
        "colab_type": "text"
      },
      "source": [
        "<a href=\"https://colab.research.google.com/github/hfontoh/AIML/blob/main/Capstone%20I.ipynb\" target=\"_parent\"><img src=\"https://colab.research.google.com/assets/colab-badge.svg\" alt=\"Open In Colab\"/></a>"
      ]
    },
    {
      "cell_type": "markdown",
      "metadata": {
        "id": "7sK8oC5W9IlW"
      },
      "source": [
        ""
      ]
    },
    {
      "cell_type": "code",
      "metadata": {
        "colab": {
          "base_uri": "https://localhost:8080/"
        },
        "id": "zH_wP46W7fxF",
        "outputId": "29cd8c10-7c76-4d4e-a267-5d31e1b141e2"
      },
      "source": [
        "# Mount google drive\n",
        "\n",
        "from google.colab import drive\n",
        "drive.mount('/content/drive')"
      ],
      "execution_count": null,
      "outputs": [
        {
          "output_type": "stream",
          "name": "stdout",
          "text": [
            "Mounted at /content/drive\n"
          ]
        }
      ]
    },
    {
      "cell_type": "code",
      "metadata": {
        "id": "f685BK7K9gZC"
      },
      "source": [
        "# Import the necessary files\n",
        "\n",
        "import numpy as np \n",
        "import pandas as pd \n",
        "import seaborn as sns\n",
        "import matplotlib.pyplot as plt \n",
        "\n",
        "from sklearn.model_selection import train_test_split #creating train and test splits\n",
        "from sklearn.metrics import confusion_matrix, classification_report # model performance for logistic\n",
        "from sklearn.linear_model import LinearRegression\n",
        "\n",
        "\n",
        "import statsmodels.api as sm #regression models\n",
        "import statsmodels.formula.api as smf # This allows you to use formulas inside statmodels functions\n",
        "\n",
        "%matplotlib inline"
      ],
      "execution_count": 325,
      "outputs": []
    },
    {
      "cell_type": "code",
      "metadata": {
        "colab": {
          "base_uri": "https://localhost:8080/",
          "height": 473
        },
        "id": "da3UJAQ_93Ao",
        "outputId": "8fc5ca8e-bbbf-4ef3-c385-74e6e9d394a3"
      },
      "source": [
        "#  Load dataset\n",
        "\n",
        "df = pd.read_csv(\"/content/drive/MyDrive/Capstone1/2020_bexar.csv\")\n",
        "df.head().T"
      ],
      "execution_count": 326,
      "outputs": [
        {
          "output_type": "stream",
          "name": "stderr",
          "text": [
            "/usr/local/lib/python3.7/dist-packages/IPython/core/interactiveshell.py:2718: DtypeWarning: Columns (22,23,24,26,27,28,29,30,31,32,33,38,43,44) have mixed types.Specify dtype option on import or set low_memory=False.\n",
            "  interactivity=interactivity, compiler=compiler, result=result)\n"
          ]
        },
        {
          "output_type": "execute_result",
          "data": {
            "text/html": [
              "<div>\n",
              "<style scoped>\n",
              "    .dataframe tbody tr th:only-of-type {\n",
              "        vertical-align: middle;\n",
              "    }\n",
              "\n",
              "    .dataframe tbody tr th {\n",
              "        vertical-align: top;\n",
              "    }\n",
              "\n",
              "    .dataframe thead th {\n",
              "        text-align: right;\n",
              "    }\n",
              "</style>\n",
              "<table border=\"1\" class=\"dataframe\">\n",
              "  <thead>\n",
              "    <tr style=\"text-align: right;\">\n",
              "      <th></th>\n",
              "      <th>0</th>\n",
              "      <th>1</th>\n",
              "      <th>2</th>\n",
              "      <th>3</th>\n",
              "      <th>4</th>\n",
              "    </tr>\n",
              "  </thead>\n",
              "  <tbody>\n",
              "    <tr>\n",
              "      <th>activity_year</th>\n",
              "      <td>2020</td>\n",
              "      <td>2020</td>\n",
              "      <td>2020</td>\n",
              "      <td>2020</td>\n",
              "      <td>2020</td>\n",
              "    </tr>\n",
              "    <tr>\n",
              "      <th>lei</th>\n",
              "      <td>254900HA4DQWAE0W3342</td>\n",
              "      <td>254900HA4DQWAE0W3342</td>\n",
              "      <td>254900HA4DQWAE0W3342</td>\n",
              "      <td>254900HA4DQWAE0W3342</td>\n",
              "      <td>254900HA4DQWAE0W3342</td>\n",
              "    </tr>\n",
              "    <tr>\n",
              "      <th>derived_msa_md</th>\n",
              "      <td>41700</td>\n",
              "      <td>41700</td>\n",
              "      <td>41700</td>\n",
              "      <td>41700</td>\n",
              "      <td>41700</td>\n",
              "    </tr>\n",
              "    <tr>\n",
              "      <th>state_code</th>\n",
              "      <td>TX</td>\n",
              "      <td>TX</td>\n",
              "      <td>TX</td>\n",
              "      <td>TX</td>\n",
              "      <td>TX</td>\n",
              "    </tr>\n",
              "    <tr>\n",
              "      <th>county_code</th>\n",
              "      <td>48029</td>\n",
              "      <td>48029</td>\n",
              "      <td>48029</td>\n",
              "      <td>48029</td>\n",
              "      <td>48029</td>\n",
              "    </tr>\n",
              "    <tr>\n",
              "      <th>...</th>\n",
              "      <td>...</td>\n",
              "      <td>...</td>\n",
              "      <td>...</td>\n",
              "      <td>...</td>\n",
              "      <td>...</td>\n",
              "    </tr>\n",
              "    <tr>\n",
              "      <th>ffiec_msa_md_median_family_income</th>\n",
              "      <td>72200</td>\n",
              "      <td>72200</td>\n",
              "      <td>72200</td>\n",
              "      <td>72200</td>\n",
              "      <td>72200</td>\n",
              "    </tr>\n",
              "    <tr>\n",
              "      <th>tract_to_msa_income_percentage</th>\n",
              "      <td>163</td>\n",
              "      <td>138</td>\n",
              "      <td>109</td>\n",
              "      <td>166</td>\n",
              "      <td>70</td>\n",
              "    </tr>\n",
              "    <tr>\n",
              "      <th>tract_owner_occupied_units</th>\n",
              "      <td>2331</td>\n",
              "      <td>1558</td>\n",
              "      <td>1020</td>\n",
              "      <td>2193</td>\n",
              "      <td>1187</td>\n",
              "    </tr>\n",
              "    <tr>\n",
              "      <th>tract_one_to_four_family_homes</th>\n",
              "      <td>2763</td>\n",
              "      <td>1968</td>\n",
              "      <td>1583</td>\n",
              "      <td>2564</td>\n",
              "      <td>2012</td>\n",
              "    </tr>\n",
              "    <tr>\n",
              "      <th>tract_median_age_of_housing_units</th>\n",
              "      <td>11</td>\n",
              "      <td>42</td>\n",
              "      <td>39</td>\n",
              "      <td>12</td>\n",
              "      <td>14</td>\n",
              "    </tr>\n",
              "  </tbody>\n",
              "</table>\n",
              "<p>99 rows × 5 columns</p>\n",
              "</div>"
            ],
            "text/plain": [
              "                                                      0  ...                     4\n",
              "activity_year                                      2020  ...                  2020\n",
              "lei                                254900HA4DQWAE0W3342  ...  254900HA4DQWAE0W3342\n",
              "derived_msa_md                                    41700  ...                 41700\n",
              "state_code                                           TX  ...                    TX\n",
              "county_code                                       48029  ...                 48029\n",
              "...                                                 ...  ...                   ...\n",
              "ffiec_msa_md_median_family_income                 72200  ...                 72200\n",
              "tract_to_msa_income_percentage                      163  ...                    70\n",
              "tract_owner_occupied_units                         2331  ...                  1187\n",
              "tract_one_to_four_family_homes                     2763  ...                  2012\n",
              "tract_median_age_of_housing_units                    11  ...                    14\n",
              "\n",
              "[99 rows x 5 columns]"
            ]
          },
          "metadata": {},
          "execution_count": 326
        }
      ]
    },
    {
      "cell_type": "code",
      "metadata": {
        "id": "Gg8_mi5cOlnn"
      },
      "source": [
        "#df_1= df[['census_tract','action_taken', 'loan_type',  'loan_purpose', 'loan_amount', 'combined_loan_to_value_ratio', 'interest_rate',  'total_loan_costs', 'origination_charges',\n",
        " #         'loan_term',  'property_value', 'construction_method',  'occupancy_type', 'total_units', 'income',  'debt_to_income_ratio']]"
      ],
      "execution_count": 185,
      "outputs": []
    },
    {
      "cell_type": "code",
      "metadata": {
        "id": "PKgQZY9z2fR6"
      },
      "source": [
        "df_1= df[[ 'loan_amount', 'property_value', 'interest_rate','loan_term', 'income',  'debt_to_income_ratio','action_taken']]"
      ],
      "execution_count": 327,
      "outputs": []
    },
    {
      "cell_type": "code",
      "metadata": {
        "colab": {
          "base_uri": "https://localhost:8080/"
        },
        "id": "3dc731hU2LI_",
        "outputId": "bb26d4cb-c4ff-435f-a55a-a18ac3c91ac2"
      },
      "source": [
        "df_1.info()"
      ],
      "execution_count": 328,
      "outputs": [
        {
          "output_type": "stream",
          "name": "stdout",
          "text": [
            "<class 'pandas.core.frame.DataFrame'>\n",
            "RangeIndex: 145273 entries, 0 to 145272\n",
            "Data columns (total 7 columns):\n",
            " #   Column                Non-Null Count   Dtype  \n",
            "---  ------                --------------   -----  \n",
            " 0   loan_amount           145273 non-null  int64  \n",
            " 1   property_value        104284 non-null  object \n",
            " 2   interest_rate         97911 non-null   object \n",
            " 3   loan_term             144425 non-null  object \n",
            " 4   income                108457 non-null  float64\n",
            " 5   debt_to_income_ratio  75451 non-null   object \n",
            " 6   action_taken          145273 non-null  int64  \n",
            "dtypes: float64(1), int64(2), object(4)\n",
            "memory usage: 7.8+ MB\n"
          ]
        }
      ]
    },
    {
      "cell_type": "code",
      "metadata": {
        "colab": {
          "base_uri": "https://localhost:8080/"
        },
        "id": "ZquzVmrYHw1u",
        "outputId": "59f79b41-d2a9-4aa2-8212-e2b5c85391d2"
      },
      "source": [
        "# checking  for null values\n",
        "df_1.isnull().sum()"
      ],
      "execution_count": 329,
      "outputs": [
        {
          "output_type": "execute_result",
          "data": {
            "text/plain": [
              "loan_amount                 0\n",
              "property_value          40989\n",
              "interest_rate           47362\n",
              "loan_term                 848\n",
              "income                  36816\n",
              "debt_to_income_ratio    69822\n",
              "action_taken                0\n",
              "dtype: int64"
            ]
          },
          "metadata": {},
          "execution_count": 329
        }
      ]
    },
    {
      "cell_type": "code",
      "metadata": {
        "colab": {
          "base_uri": "https://localhost:8080/"
        },
        "id": "rVHzSVYu8dPy",
        "outputId": "a8cf93b3-673b-45cd-da9b-754786044238"
      },
      "source": [
        "df_1['action_taken'].value_counts()"
      ],
      "execution_count": 330,
      "outputs": [
        {
          "output_type": "execute_result",
          "data": {
            "text/plain": [
              "1    71316\n",
              "6    21456\n",
              "4    21099\n",
              "3    17580\n",
              "5     9037\n",
              "2     4737\n",
              "8       35\n",
              "7       13\n",
              "Name: action_taken, dtype: int64"
            ]
          },
          "metadata": {},
          "execution_count": 330
        }
      ]
    },
    {
      "cell_type": "code",
      "metadata": {
        "colab": {
          "base_uri": "https://localhost:8080/"
        },
        "id": "5GUilG376aOJ",
        "outputId": "c920660b-07b0-41b4-c96e-179dbd2231e6"
      },
      "source": [
        "# create binary data for action taken. 1 for loan approved and 0 for loan denied.\n",
        "df_1['loan_status'] = np.where(df_1['action_taken'] <= 2, 1, 0)\n",
        "\n",
        "# check  for categorical values : 1 for loan approved and 0 for loan denied\n",
        "df_1['loan_status'].value_counts()  \n"
      ],
      "execution_count": 331,
      "outputs": [
        {
          "output_type": "stream",
          "name": "stderr",
          "text": [
            "/usr/local/lib/python3.7/dist-packages/ipykernel_launcher.py:2: SettingWithCopyWarning: \n",
            "A value is trying to be set on a copy of a slice from a DataFrame.\n",
            "Try using .loc[row_indexer,col_indexer] = value instead\n",
            "\n",
            "See the caveats in the documentation: https://pandas.pydata.org/pandas-docs/stable/user_guide/indexing.html#returning-a-view-versus-a-copy\n",
            "  \n"
          ]
        },
        {
          "output_type": "execute_result",
          "data": {
            "text/plain": [
              "1    76053\n",
              "0    69220\n",
              "Name: loan_status, dtype: int64"
            ]
          },
          "metadata": {},
          "execution_count": 331
        }
      ]
    },
    {
      "cell_type": "code",
      "metadata": {
        "colab": {
          "base_uri": "https://localhost:8080/"
        },
        "id": "Uu4sjGSRLL8N",
        "outputId": "94517a4e-7109-4089-f2b2-8fbde08f8e6b"
      },
      "source": [
        "\n",
        "df_1['loan_term'].value_counts()"
      ],
      "execution_count": 332,
      "outputs": [
        {
          "output_type": "execute_result",
          "data": {
            "text/plain": [
              "360    94611\n",
              "180    15034\n",
              "360    10344\n",
              "240     5961\n",
              "120     2274\n",
              "       ...  \n",
              "417        1\n",
              "212        1\n",
              "407        1\n",
              "151        1\n",
              "6.0        1\n",
              "Name: loan_term, Length: 560, dtype: int64"
            ]
          },
          "metadata": {},
          "execution_count": 332
        }
      ]
    },
    {
      "cell_type": "code",
      "metadata": {
        "colab": {
          "base_uri": "https://localhost:8080/"
        },
        "id": "25ec1YK_AXvH",
        "outputId": "c94a08d5-d98a-41ac-efd0-1a5cb3c65bce"
      },
      "source": [
        "#fill missing values  for numeric terms with their mean\n",
        "\n",
        "df_1['loan_amount'].fillna(df_1['loan_amount'].mean(), inplace=True)\n",
        "\n",
        "df_1['income'].fillna(df_1['income'].mean(), inplace=True)\n",
        "\n",
        "\n",
        "df_1['loan_term'] =pd.to_numeric(df_1['loan_term'], errors='coerce')\n",
        "k= df_1['loan_term'].mean()\n",
        "df_1['loan_term'].fillna(k, inplace=True)\n",
        "\n",
        "df_1['property_value'] =pd.to_numeric(df_1['property_value'], errors='coerce')\n",
        "k= df_1['property_value'].mean()\n",
        "df_1['property_value'].fillna(k, inplace=True)\n",
        "\n",
        "df_1['interest_rate'] =pd.to_numeric(df_1['interest_rate'], errors='coerce')\n",
        "k= df_1['interest_rate'].mean()\n",
        "df_1['interest_rate'].fillna(k, inplace=True)\n"
      ],
      "execution_count": 333,
      "outputs": [
        {
          "output_type": "stream",
          "name": "stderr",
          "text": [
            "/usr/local/lib/python3.7/dist-packages/pandas/core/series.py:4536: SettingWithCopyWarning: \n",
            "A value is trying to be set on a copy of a slice from a DataFrame\n",
            "\n",
            "See the caveats in the documentation: https://pandas.pydata.org/pandas-docs/stable/user_guide/indexing.html#returning-a-view-versus-a-copy\n",
            "  downcast=downcast,\n",
            "/usr/local/lib/python3.7/dist-packages/ipykernel_launcher.py:7: SettingWithCopyWarning: \n",
            "A value is trying to be set on a copy of a slice from a DataFrame.\n",
            "Try using .loc[row_indexer,col_indexer] = value instead\n",
            "\n",
            "See the caveats in the documentation: https://pandas.pydata.org/pandas-docs/stable/user_guide/indexing.html#returning-a-view-versus-a-copy\n",
            "  import sys\n",
            "/usr/local/lib/python3.7/dist-packages/ipykernel_launcher.py:11: SettingWithCopyWarning: \n",
            "A value is trying to be set on a copy of a slice from a DataFrame.\n",
            "Try using .loc[row_indexer,col_indexer] = value instead\n",
            "\n",
            "See the caveats in the documentation: https://pandas.pydata.org/pandas-docs/stable/user_guide/indexing.html#returning-a-view-versus-a-copy\n",
            "  # This is added back by InteractiveShellApp.init_path()\n",
            "/usr/local/lib/python3.7/dist-packages/ipykernel_launcher.py:15: SettingWithCopyWarning: \n",
            "A value is trying to be set on a copy of a slice from a DataFrame.\n",
            "Try using .loc[row_indexer,col_indexer] = value instead\n",
            "\n",
            "See the caveats in the documentation: https://pandas.pydata.org/pandas-docs/stable/user_guide/indexing.html#returning-a-view-versus-a-copy\n",
            "  from ipykernel import kernelapp as app\n"
          ]
        }
      ]
    },
    {
      "cell_type": "code",
      "metadata": {
        "colab": {
          "base_uri": "https://localhost:8080/"
        },
        "id": "RJ5gvUszNi7T",
        "outputId": "13dc95e3-901d-4551-9c14-02e7bddb9984"
      },
      "source": [
        "#create  binary data  for debt to income ratio .  1 or ratios less than 36% \n",
        "\n",
        "def a_function(a):\n",
        "  list= ['<20%', '20%-<30%', '30%-<36%']\n",
        "  if a in list:\n",
        "    res ='1'\n",
        "  else:\n",
        "   res='0'\n",
        "  return res\n",
        "\n",
        "df_1['debt_to_income_ratio'] = df_1['debt_to_income_ratio'].astype(str).map(a_function) \n",
        "\n"
      ],
      "execution_count": 334,
      "outputs": [
        {
          "output_type": "stream",
          "name": "stderr",
          "text": [
            "/usr/local/lib/python3.7/dist-packages/ipykernel_launcher.py:11: SettingWithCopyWarning: \n",
            "A value is trying to be set on a copy of a slice from a DataFrame.\n",
            "Try using .loc[row_indexer,col_indexer] = value instead\n",
            "\n",
            "See the caveats in the documentation: https://pandas.pydata.org/pandas-docs/stable/user_guide/indexing.html#returning-a-view-versus-a-copy\n",
            "  # This is added back by InteractiveShellApp.init_path()\n"
          ]
        }
      ]
    },
    {
      "cell_type": "code",
      "metadata": {
        "colab": {
          "base_uri": "https://localhost:8080/"
        },
        "id": "BpdWKcPMObLA",
        "outputId": "74ca139e-949f-4cbe-e593-26659e04605a"
      },
      "source": [
        "#check income debt_to_income_ratio\n",
        "df_1['debt_to_income_ratio'].value_counts()"
      ],
      "execution_count": 335,
      "outputs": [
        {
          "output_type": "execute_result",
          "data": {
            "text/plain": [
              "0    116050\n",
              "1     29223\n",
              "Name: debt_to_income_ratio, dtype: int64"
            ]
          },
          "metadata": {},
          "execution_count": 335
        }
      ]
    },
    {
      "cell_type": "code",
      "metadata": {
        "colab": {
          "base_uri": "https://localhost:8080/"
        },
        "id": "uLC4HYZM62Qq",
        "outputId": "873e8365-aeb2-471c-9c46-860ac7a3b924"
      },
      "source": [
        "df_1.isnull().sum()"
      ],
      "execution_count": 336,
      "outputs": [
        {
          "output_type": "execute_result",
          "data": {
            "text/plain": [
              "loan_amount             0\n",
              "property_value          0\n",
              "interest_rate           0\n",
              "loan_term               0\n",
              "income                  0\n",
              "debt_to_income_ratio    0\n",
              "action_taken            0\n",
              "loan_status             0\n",
              "dtype: int64"
            ]
          },
          "metadata": {},
          "execution_count": 336
        }
      ]
    },
    {
      "cell_type": "code",
      "metadata": {
        "colab": {
          "base_uri": "https://localhost:8080/",
          "height": 204
        },
        "id": "lllqIsMjWZWE",
        "outputId": "16c9e096-7243-4d84-f45b-341e38afd87e"
      },
      "source": [
        "del df_1['action_taken']\n",
        "df_1.head()"
      ],
      "execution_count": 338,
      "outputs": [
        {
          "output_type": "execute_result",
          "data": {
            "text/html": [
              "<div>\n",
              "<style scoped>\n",
              "    .dataframe tbody tr th:only-of-type {\n",
              "        vertical-align: middle;\n",
              "    }\n",
              "\n",
              "    .dataframe tbody tr th {\n",
              "        vertical-align: top;\n",
              "    }\n",
              "\n",
              "    .dataframe thead th {\n",
              "        text-align: right;\n",
              "    }\n",
              "</style>\n",
              "<table border=\"1\" class=\"dataframe\">\n",
              "  <thead>\n",
              "    <tr style=\"text-align: right;\">\n",
              "      <th></th>\n",
              "      <th>loan_amount</th>\n",
              "      <th>property_value</th>\n",
              "      <th>interest_rate</th>\n",
              "      <th>loan_term</th>\n",
              "      <th>income</th>\n",
              "      <th>debt_to_income_ratio</th>\n",
              "      <th>loan_status</th>\n",
              "    </tr>\n",
              "  </thead>\n",
              "  <tbody>\n",
              "    <tr>\n",
              "      <th>0</th>\n",
              "      <td>335000</td>\n",
              "      <td>425000.0</td>\n",
              "      <td>3.875</td>\n",
              "      <td>360.0</td>\n",
              "      <td>345.000000</td>\n",
              "      <td>0</td>\n",
              "      <td>0</td>\n",
              "    </tr>\n",
              "    <tr>\n",
              "      <th>1</th>\n",
              "      <td>325000</td>\n",
              "      <td>425000.0</td>\n",
              "      <td>3.000</td>\n",
              "      <td>360.0</td>\n",
              "      <td>294.000000</td>\n",
              "      <td>0</td>\n",
              "      <td>0</td>\n",
              "    </tr>\n",
              "    <tr>\n",
              "      <th>2</th>\n",
              "      <td>215000</td>\n",
              "      <td>215000.0</td>\n",
              "      <td>2.250</td>\n",
              "      <td>360.0</td>\n",
              "      <td>846.143753</td>\n",
              "      <td>0</td>\n",
              "      <td>0</td>\n",
              "    </tr>\n",
              "    <tr>\n",
              "      <th>3</th>\n",
              "      <td>315000</td>\n",
              "      <td>475000.0</td>\n",
              "      <td>3.000</td>\n",
              "      <td>360.0</td>\n",
              "      <td>225.000000</td>\n",
              "      <td>0</td>\n",
              "      <td>0</td>\n",
              "    </tr>\n",
              "    <tr>\n",
              "      <th>4</th>\n",
              "      <td>185000</td>\n",
              "      <td>185000.0</td>\n",
              "      <td>4.000</td>\n",
              "      <td>360.0</td>\n",
              "      <td>95.000000</td>\n",
              "      <td>0</td>\n",
              "      <td>0</td>\n",
              "    </tr>\n",
              "  </tbody>\n",
              "</table>\n",
              "</div>"
            ],
            "text/plain": [
              "   loan_amount  property_value  ...  debt_to_income_ratio  loan_status\n",
              "0       335000        425000.0  ...                     0            0\n",
              "1       325000        425000.0  ...                     0            0\n",
              "2       215000        215000.0  ...                     0            0\n",
              "3       315000        475000.0  ...                     0            0\n",
              "4       185000        185000.0  ...                     0            0\n",
              "\n",
              "[5 rows x 7 columns]"
            ]
          },
          "metadata": {},
          "execution_count": 338
        }
      ]
    },
    {
      "cell_type": "markdown",
      "metadata": {
        "id": "ZuPgUh-6g1AI"
      },
      "source": [
        "**split into labels/ target    training set /test sets**"
      ]
    },
    {
      "cell_type": "code",
      "metadata": {
        "id": "dv0nCjcxhRe2"
      },
      "source": [
        "#labels and target\n",
        "X = df_1.drop('loan_status', axis=1)\n",
        "y= df_1['loan_status']\n",
        "\n",
        "from sklearn.model_selection import train_test_split\n",
        "\n",
        "X_train, X_test, y_train, y_test = train_test_split(X, y, test_size=0.3)"
      ],
      "execution_count": 345,
      "outputs": []
    },
    {
      "cell_type": "markdown",
      "metadata": {
        "id": "S84sGhX8op-p"
      },
      "source": [
        "**Features Scaling**"
      ]
    },
    {
      "cell_type": "code",
      "metadata": {
        "id": "dXumpm7TorVl"
      },
      "source": [
        "from sklearn.preprocessing import StandardScaler\n",
        "\n",
        "sc = StandardScaler()\n",
        "X_train = sc.fit_transform(X_train)\n",
        "X_test = sc.transform(X_test)"
      ],
      "execution_count": 346,
      "outputs": []
    },
    {
      "cell_type": "markdown",
      "metadata": {
        "id": "uGmpxvn92YKS"
      },
      "source": [
        "**TRAINING MODELS**"
      ]
    },
    {
      "cell_type": "markdown",
      "metadata": {
        "id": "EHUWzRXx2Mq1"
      },
      "source": [
        "**RANDOMFOREST CLASSIFIER**"
      ]
    },
    {
      "cell_type": "code",
      "metadata": {
        "id": "ONQlFMmOpS34"
      },
      "source": [
        "from sklearn.ensemble import RandomForestClassifier\n",
        "\n",
        "clf = RandomForestClassifier(n_estimators=20, random_state=0)\n",
        "clf.fit(X_train, y_train)\n",
        "y_pred = clf.predict(X_test)"
      ],
      "execution_count": 354,
      "outputs": []
    },
    {
      "cell_type": "code",
      "metadata": {
        "colab": {
          "base_uri": "https://localhost:8080/"
        },
        "id": "B3B3BjcnsTt-",
        "outputId": "5421cf12-90a8-4c6c-c461-8c699f2ea51a"
      },
      "source": [
        "from sklearn.metrics import classification_report, confusion_matrix, accuracy_score\n",
        "\n",
        "print(confusion_matrix(y_test,y_pred))\n",
        "print(classification_report(y_test,y_pred))\n",
        "print(accuracy_score(y_test, y_pred))"
      ],
      "execution_count": 355,
      "outputs": [
        {
          "output_type": "stream",
          "name": "stdout",
          "text": [
            "[[17811  2963]\n",
            " [ 2112 20696]]\n",
            "              precision    recall  f1-score   support\n",
            "\n",
            "           0       0.89      0.86      0.88     20774\n",
            "           1       0.87      0.91      0.89     22808\n",
            "\n",
            "    accuracy                           0.88     43582\n",
            "   macro avg       0.88      0.88      0.88     43582\n",
            "weighted avg       0.88      0.88      0.88     43582\n",
            "\n",
            "0.8835528429168005\n"
          ]
        }
      ]
    },
    {
      "cell_type": "markdown",
      "metadata": {
        "id": "SvRoVV_9vuAM"
      },
      "source": [
        "**XGBOOST XGBCLASSIFIER**"
      ]
    },
    {
      "cell_type": "code",
      "metadata": {
        "id": "RBEENsndv6Bu"
      },
      "source": [
        "from xgboost import XGBClassifier"
      ],
      "execution_count": 356,
      "outputs": []
    },
    {
      "cell_type": "code",
      "metadata": {
        "colab": {
          "base_uri": "https://localhost:8080/"
        },
        "id": "mWFKc69RxYUk",
        "outputId": "9a7c55d6-13f6-46bd-83b2-80da2fcfdfb7"
      },
      "source": [
        "xgb_clf = XGBClassifier()\n",
        "xgb_clf.fit(X_train, y_train)"
      ],
      "execution_count": 357,
      "outputs": [
        {
          "output_type": "execute_result",
          "data": {
            "text/plain": [
              "XGBClassifier(base_score=0.5, booster='gbtree', colsample_bylevel=1,\n",
              "              colsample_bynode=1, colsample_bytree=1, gamma=0,\n",
              "              learning_rate=0.1, max_delta_step=0, max_depth=3,\n",
              "              min_child_weight=1, missing=None, n_estimators=100, n_jobs=1,\n",
              "              nthread=None, objective='binary:logistic', random_state=0,\n",
              "              reg_alpha=0, reg_lambda=1, scale_pos_weight=1, seed=None,\n",
              "              silent=None, subsample=1, verbosity=1)"
            ]
          },
          "metadata": {},
          "execution_count": 357
        }
      ]
    },
    {
      "cell_type": "code",
      "metadata": {
        "colab": {
          "base_uri": "https://localhost:8080/"
        },
        "id": "1_t1U5DvxfQ3",
        "outputId": "cf06af1b-16b2-4017-fc84-2bf391328b89"
      },
      "source": [
        "score = xgb_clf.score(X_test, y_test)\n",
        "print(score)"
      ],
      "execution_count": 360,
      "outputs": [
        {
          "output_type": "stream",
          "name": "stdout",
          "text": [
            "0.8926391629571842\n"
          ]
        }
      ]
    },
    {
      "cell_type": "markdown",
      "metadata": {
        "id": "6cy0jeOn0Hj4"
      },
      "source": [
        "**KNN Classifier**"
      ]
    },
    {
      "cell_type": "code",
      "metadata": {
        "colab": {
          "base_uri": "https://localhost:8080/"
        },
        "id": "k6cEHLwj0M6n",
        "outputId": "5f922c93-6a58-4e6a-b55c-5151bd2f88d5"
      },
      "source": [
        "from sklearn.neighbors import KNeighborsClassifier\n",
        "classifier = KNeighborsClassifier(n_neighbors=5)\n",
        "classifier.fit(X_train, y_train)"
      ],
      "execution_count": 361,
      "outputs": [
        {
          "output_type": "execute_result",
          "data": {
            "text/plain": [
              "KNeighborsClassifier(algorithm='auto', leaf_size=30, metric='minkowski',\n",
              "                     metric_params=None, n_jobs=None, n_neighbors=5, p=2,\n",
              "                     weights='uniform')"
            ]
          },
          "metadata": {},
          "execution_count": 361
        }
      ]
    },
    {
      "cell_type": "code",
      "metadata": {
        "id": "XPaZdzPd0i66"
      },
      "source": [
        "y_pred = classifier.predict(X_test)"
      ],
      "execution_count": 364,
      "outputs": []
    },
    {
      "cell_type": "code",
      "metadata": {
        "colab": {
          "base_uri": "https://localhost:8080/"
        },
        "id": "2we5-7qI0rRz",
        "outputId": "93398f9d-510d-4b38-e3ef-799cca54c4c6"
      },
      "source": [
        "from sklearn.metrics import classification_report, confusion_matrix\n",
        "print(confusion_matrix(y_test, y_pred))\n",
        "print(classification_report(y_test, y_pred))"
      ],
      "execution_count": 365,
      "outputs": [
        {
          "output_type": "stream",
          "name": "stdout",
          "text": [
            "[[17513  3261]\n",
            " [ 1759 21049]]\n",
            "              precision    recall  f1-score   support\n",
            "\n",
            "           0       0.91      0.84      0.87     20774\n",
            "           1       0.87      0.92      0.89     22808\n",
            "\n",
            "    accuracy                           0.88     43582\n",
            "   macro avg       0.89      0.88      0.88     43582\n",
            "weighted avg       0.89      0.88      0.88     43582\n",
            "\n"
          ]
        }
      ]
    },
    {
      "cell_type": "markdown",
      "metadata": {
        "id": "eoMYVL88_8Gy"
      },
      "source": [
        "**LOGISTIC REGRESSION MODEL**"
      ]
    },
    {
      "cell_type": "code",
      "metadata": {
        "id": "0lsjxkAiADrk"
      },
      "source": [
        "from sklearn.linear_model import LogisticRegression\n",
        "model = LogisticRegression()\n",
        "\n",
        "#Train the model and create predictions\n",
        "model.fit(X_train, y_train)\n",
        "y_pred = model.predict(X_test)"
      ],
      "execution_count": 366,
      "outputs": []
    },
    {
      "cell_type": "code",
      "metadata": {
        "colab": {
          "base_uri": "https://localhost:8080/"
        },
        "id": "5ObmYDqKBY5A",
        "outputId": "a0a24a62-1c23-494a-c5f4-2ede9c60b53d"
      },
      "source": [
        "#Calculate performance metrics\n",
        "\n",
        "from sklearn.metrics import classification_report\n",
        "print(classification_report(y_test, y_pred))"
      ],
      "execution_count": 367,
      "outputs": [
        {
          "output_type": "stream",
          "name": "stdout",
          "text": [
            "              precision    recall  f1-score   support\n",
            "\n",
            "           0       0.59      0.88      0.71     20774\n",
            "           1       0.80      0.44      0.57     22808\n",
            "\n",
            "    accuracy                           0.65     43582\n",
            "   macro avg       0.70      0.66      0.64     43582\n",
            "weighted avg       0.70      0.65      0.64     43582\n",
            "\n"
          ]
        }
      ]
    },
    {
      "cell_type": "code",
      "metadata": {
        "colab": {
          "base_uri": "https://localhost:8080/"
        },
        "id": "X8xD6MsbBzxr",
        "outputId": "5307b395-71e1-43df-af9d-fe5120875eed"
      },
      "source": [
        "#Generate a confusion matrix\n",
        "from sklearn.metrics import confusion_matrix\n",
        "print(confusion_matrix(y_test,y_pred))"
      ],
      "execution_count": 369,
      "outputs": [
        {
          "output_type": "stream",
          "name": "stdout",
          "text": [
            "[[18334  2440]\n",
            " [12738 10070]]\n"
          ]
        }
      ]
    }
  ]
}
